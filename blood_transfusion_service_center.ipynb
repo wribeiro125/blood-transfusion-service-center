{
  "nbformat": 4,
  "nbformat_minor": 0,
  "metadata": {
    "colab": {
      "name": "blood-transfusion-service-center",
      "provenance": []
    },
    "kernelspec": {
      "name": "python3",
      "display_name": "Python 3"
    }
  },
  "cells": [
    {
      "cell_type": "markdown",
      "metadata": {
        "id": "1JX2LFgdZN7o"
      },
      "source": [
        "# **Blood Transfusion Service Center**\n",
        "-------\n",
        "Blood Transfusion Service Center Data Set\n",
        "Data taken from the Blood Transfusion Service Center in Hsin-Chu City in Taiwan -- this is a classification problem.\n",
        "\n",
        "To demonstrate the RFMTC marketing model (a modified version of RFM), this study adopted the donor database of Blood Transfusion Service Center in Hsin-Chu City in Taiwan. The center passes their blood transfusion service bus to one university in Hsin-Chu City to gather blood donated about every three months. To build an FRMTC model, we selected 748 donors at random from the donor database. [link](https://www.openml.org/d/1464)\n",
        "\n",
        "V1: Recency - months since last donation\n",
        "\n",
        "V2: Frequency - total number of donation\n",
        "\n",
        "V3: Monetary - total blood donated in c.c.\n",
        "\n",
        "V4: Time - months since first donation)a binary variable representing whether he/she donated blood in March 2007 (1 stand for donating blood; 0 stands for not donating blood).\n",
        "\n",
        "The target attribute is a binary variable representing whether he/she donated blood in March 2007 (2 stands for donating blood; 1 stands for not donating blood)."
      ]
    },
    {
      "cell_type": "code",
      "metadata": {
        "id": "eG_mUA15YtWY"
      },
      "source": [
        "import numpy as np\n",
        "import pandas as pd\n",
        "import matplotlib.pyplot as plt\n",
        "import seaborn as sns"
      ],
      "execution_count": 97,
      "outputs": []
    },
    {
      "cell_type": "code",
      "metadata": {
        "id": "yNFGJ6bIY528"
      },
      "source": [
        "#lendo o csv que se encontra no link informado\n",
        "blood_transf = pd.read_csv('https://www.openml.org/data/get_csv/1586225/php0iVrYT.csv')"
      ],
      "execution_count": 98,
      "outputs": []
    },
    {
      "cell_type": "code",
      "metadata": {
        "colab": {
          "base_uri": "https://localhost:8080/",
          "height": 347
        },
        "id": "jNuqPkXmaMPp",
        "outputId": "6092ebae-fc45-4a52-f224-526a83c92cd8"
      },
      "source": [
        "blood_transf.head(10) #lendo as 10 primeiras linhas"
      ],
      "execution_count": 99,
      "outputs": [
        {
          "output_type": "execute_result",
          "data": {
            "text/html": [
              "<div>\n",
              "<style scoped>\n",
              "    .dataframe tbody tr th:only-of-type {\n",
              "        vertical-align: middle;\n",
              "    }\n",
              "\n",
              "    .dataframe tbody tr th {\n",
              "        vertical-align: top;\n",
              "    }\n",
              "\n",
              "    .dataframe thead th {\n",
              "        text-align: right;\n",
              "    }\n",
              "</style>\n",
              "<table border=\"1\" class=\"dataframe\">\n",
              "  <thead>\n",
              "    <tr style=\"text-align: right;\">\n",
              "      <th></th>\n",
              "      <th>V1</th>\n",
              "      <th>V2</th>\n",
              "      <th>V3</th>\n",
              "      <th>V4</th>\n",
              "      <th>Class</th>\n",
              "    </tr>\n",
              "  </thead>\n",
              "  <tbody>\n",
              "    <tr>\n",
              "      <th>0</th>\n",
              "      <td>2</td>\n",
              "      <td>50</td>\n",
              "      <td>12500</td>\n",
              "      <td>98</td>\n",
              "      <td>2</td>\n",
              "    </tr>\n",
              "    <tr>\n",
              "      <th>1</th>\n",
              "      <td>0</td>\n",
              "      <td>13</td>\n",
              "      <td>3250</td>\n",
              "      <td>28</td>\n",
              "      <td>2</td>\n",
              "    </tr>\n",
              "    <tr>\n",
              "      <th>2</th>\n",
              "      <td>1</td>\n",
              "      <td>16</td>\n",
              "      <td>4000</td>\n",
              "      <td>35</td>\n",
              "      <td>2</td>\n",
              "    </tr>\n",
              "    <tr>\n",
              "      <th>3</th>\n",
              "      <td>2</td>\n",
              "      <td>20</td>\n",
              "      <td>5000</td>\n",
              "      <td>45</td>\n",
              "      <td>2</td>\n",
              "    </tr>\n",
              "    <tr>\n",
              "      <th>4</th>\n",
              "      <td>1</td>\n",
              "      <td>24</td>\n",
              "      <td>6000</td>\n",
              "      <td>77</td>\n",
              "      <td>1</td>\n",
              "    </tr>\n",
              "    <tr>\n",
              "      <th>5</th>\n",
              "      <td>4</td>\n",
              "      <td>4</td>\n",
              "      <td>1000</td>\n",
              "      <td>4</td>\n",
              "      <td>1</td>\n",
              "    </tr>\n",
              "    <tr>\n",
              "      <th>6</th>\n",
              "      <td>2</td>\n",
              "      <td>7</td>\n",
              "      <td>1750</td>\n",
              "      <td>14</td>\n",
              "      <td>2</td>\n",
              "    </tr>\n",
              "    <tr>\n",
              "      <th>7</th>\n",
              "      <td>1</td>\n",
              "      <td>12</td>\n",
              "      <td>3000</td>\n",
              "      <td>35</td>\n",
              "      <td>1</td>\n",
              "    </tr>\n",
              "    <tr>\n",
              "      <th>8</th>\n",
              "      <td>2</td>\n",
              "      <td>9</td>\n",
              "      <td>2250</td>\n",
              "      <td>22</td>\n",
              "      <td>2</td>\n",
              "    </tr>\n",
              "    <tr>\n",
              "      <th>9</th>\n",
              "      <td>5</td>\n",
              "      <td>46</td>\n",
              "      <td>11500</td>\n",
              "      <td>98</td>\n",
              "      <td>2</td>\n",
              "    </tr>\n",
              "  </tbody>\n",
              "</table>\n",
              "</div>"
            ],
            "text/plain": [
              "   V1  V2     V3  V4  Class\n",
              "0   2  50  12500  98      2\n",
              "1   0  13   3250  28      2\n",
              "2   1  16   4000  35      2\n",
              "3   2  20   5000  45      2\n",
              "4   1  24   6000  77      1\n",
              "5   4   4   1000   4      1\n",
              "6   2   7   1750  14      2\n",
              "7   1  12   3000  35      1\n",
              "8   2   9   2250  22      2\n",
              "9   5  46  11500  98      2"
            ]
          },
          "metadata": {
            "tags": []
          },
          "execution_count": 99
        }
      ]
    },
    {
      "cell_type": "markdown",
      "metadata": {
        "id": "kGLMm3X6aBBK"
      },
      "source": [
        "# **Conhecendo o Dataset**"
      ]
    },
    {
      "cell_type": "code",
      "metadata": {
        "colab": {
          "base_uri": "https://localhost:8080/",
          "height": 277
        },
        "id": "BGDu3YKIZHSe",
        "outputId": "d1d1e63a-5c1b-48cc-f4ab-b42c321dfeba"
      },
      "source": [
        "#resumo estatístico do dataset\n",
        "blood_transf.describe()"
      ],
      "execution_count": 100,
      "outputs": [
        {
          "output_type": "execute_result",
          "data": {
            "text/html": [
              "<div>\n",
              "<style scoped>\n",
              "    .dataframe tbody tr th:only-of-type {\n",
              "        vertical-align: middle;\n",
              "    }\n",
              "\n",
              "    .dataframe tbody tr th {\n",
              "        vertical-align: top;\n",
              "    }\n",
              "\n",
              "    .dataframe thead th {\n",
              "        text-align: right;\n",
              "    }\n",
              "</style>\n",
              "<table border=\"1\" class=\"dataframe\">\n",
              "  <thead>\n",
              "    <tr style=\"text-align: right;\">\n",
              "      <th></th>\n",
              "      <th>V1</th>\n",
              "      <th>V2</th>\n",
              "      <th>V3</th>\n",
              "      <th>V4</th>\n",
              "      <th>Class</th>\n",
              "    </tr>\n",
              "  </thead>\n",
              "  <tbody>\n",
              "    <tr>\n",
              "      <th>count</th>\n",
              "      <td>748.000000</td>\n",
              "      <td>748.000000</td>\n",
              "      <td>748.000000</td>\n",
              "      <td>748.000000</td>\n",
              "      <td>748.000000</td>\n",
              "    </tr>\n",
              "    <tr>\n",
              "      <th>mean</th>\n",
              "      <td>9.506684</td>\n",
              "      <td>5.514706</td>\n",
              "      <td>1378.676471</td>\n",
              "      <td>34.282086</td>\n",
              "      <td>1.237968</td>\n",
              "    </tr>\n",
              "    <tr>\n",
              "      <th>std</th>\n",
              "      <td>8.095396</td>\n",
              "      <td>5.839307</td>\n",
              "      <td>1459.826781</td>\n",
              "      <td>24.376714</td>\n",
              "      <td>0.426124</td>\n",
              "    </tr>\n",
              "    <tr>\n",
              "      <th>min</th>\n",
              "      <td>0.000000</td>\n",
              "      <td>1.000000</td>\n",
              "      <td>250.000000</td>\n",
              "      <td>2.000000</td>\n",
              "      <td>1.000000</td>\n",
              "    </tr>\n",
              "    <tr>\n",
              "      <th>25%</th>\n",
              "      <td>2.750000</td>\n",
              "      <td>2.000000</td>\n",
              "      <td>500.000000</td>\n",
              "      <td>16.000000</td>\n",
              "      <td>1.000000</td>\n",
              "    </tr>\n",
              "    <tr>\n",
              "      <th>50%</th>\n",
              "      <td>7.000000</td>\n",
              "      <td>4.000000</td>\n",
              "      <td>1000.000000</td>\n",
              "      <td>28.000000</td>\n",
              "      <td>1.000000</td>\n",
              "    </tr>\n",
              "    <tr>\n",
              "      <th>75%</th>\n",
              "      <td>14.000000</td>\n",
              "      <td>7.000000</td>\n",
              "      <td>1750.000000</td>\n",
              "      <td>50.000000</td>\n",
              "      <td>1.000000</td>\n",
              "    </tr>\n",
              "    <tr>\n",
              "      <th>max</th>\n",
              "      <td>74.000000</td>\n",
              "      <td>50.000000</td>\n",
              "      <td>12500.000000</td>\n",
              "      <td>98.000000</td>\n",
              "      <td>2.000000</td>\n",
              "    </tr>\n",
              "  </tbody>\n",
              "</table>\n",
              "</div>"
            ],
            "text/plain": [
              "               V1          V2            V3          V4       Class\n",
              "count  748.000000  748.000000    748.000000  748.000000  748.000000\n",
              "mean     9.506684    5.514706   1378.676471   34.282086    1.237968\n",
              "std      8.095396    5.839307   1459.826781   24.376714    0.426124\n",
              "min      0.000000    1.000000    250.000000    2.000000    1.000000\n",
              "25%      2.750000    2.000000    500.000000   16.000000    1.000000\n",
              "50%      7.000000    4.000000   1000.000000   28.000000    1.000000\n",
              "75%     14.000000    7.000000   1750.000000   50.000000    1.000000\n",
              "max     74.000000   50.000000  12500.000000   98.000000    2.000000"
            ]
          },
          "metadata": {
            "tags": []
          },
          "execution_count": 100
        }
      ]
    },
    {
      "cell_type": "code",
      "metadata": {
        "colab": {
          "base_uri": "https://localhost:8080/"
        },
        "id": "DOjXWtBwGocy",
        "outputId": "a0c80660-0cbc-4416-9ba9-0be4a76a5c22"
      },
      "source": [
        "blood_transf['Class'].value_counts()"
      ],
      "execution_count": 101,
      "outputs": [
        {
          "output_type": "execute_result",
          "data": {
            "text/plain": [
              "1    570\n",
              "2    178\n",
              "Name: Class, dtype: int64"
            ]
          },
          "metadata": {
            "tags": []
          },
          "execution_count": 101
        }
      ]
    },
    {
      "cell_type": "code",
      "metadata": {
        "colab": {
          "base_uri": "https://localhost:8080/"
        },
        "id": "zHv3qS0ccHuw",
        "outputId": "bd3afa96-9683-480a-d507-f090896ac7a3"
      },
      "source": [
        "blood_transf.info()"
      ],
      "execution_count": 102,
      "outputs": [
        {
          "output_type": "stream",
          "text": [
            "<class 'pandas.core.frame.DataFrame'>\n",
            "RangeIndex: 748 entries, 0 to 747\n",
            "Data columns (total 5 columns):\n",
            " #   Column  Non-Null Count  Dtype\n",
            "---  ------  --------------  -----\n",
            " 0   V1      748 non-null    int64\n",
            " 1   V2      748 non-null    int64\n",
            " 2   V3      748 non-null    int64\n",
            " 3   V4      748 non-null    int64\n",
            " 4   Class   748 non-null    int64\n",
            "dtypes: int64(5)\n",
            "memory usage: 29.3 KB\n"
          ],
          "name": "stdout"
        }
      ]
    },
    {
      "cell_type": "code",
      "metadata": {
        "colab": {
          "base_uri": "https://localhost:8080/"
        },
        "id": "AYSDI3JEaFif",
        "outputId": "681c2ce2-7ab4-4d99-a3bf-241dfa5e3ace"
      },
      "source": [
        "#verificando as linhas e colunas\n",
        "blood_transf.shape"
      ],
      "execution_count": 103,
      "outputs": [
        {
          "output_type": "execute_result",
          "data": {
            "text/plain": [
              "(748, 5)"
            ]
          },
          "metadata": {
            "tags": []
          },
          "execution_count": 103
        }
      ]
    },
    {
      "cell_type": "code",
      "metadata": {
        "colab": {
          "base_uri": "https://localhost:8080/"
        },
        "id": "EfUTWvqPbL_f",
        "outputId": "97a62336-c8b2-4936-98b7-77c304b96e5d"
      },
      "source": [
        "#verificando se há valores nulos no dataset\n",
        "blood_transf.isnull().sum()"
      ],
      "execution_count": 104,
      "outputs": [
        {
          "output_type": "execute_result",
          "data": {
            "text/plain": [
              "V1       0\n",
              "V2       0\n",
              "V3       0\n",
              "V4       0\n",
              "Class    0\n",
              "dtype: int64"
            ]
          },
          "metadata": {
            "tags": []
          },
          "execution_count": 104
        }
      ]
    },
    {
      "cell_type": "code",
      "metadata": {
        "id": "UHUYpjZCBUqn"
      },
      "source": [
        "corr = blood_transf.corr()"
      ],
      "execution_count": 105,
      "outputs": []
    },
    {
      "cell_type": "code",
      "metadata": {
        "colab": {
          "base_uri": "https://localhost:8080/",
          "height": 487
        },
        "id": "XqtsdAAeBcPL",
        "outputId": "a9649f52-1f09-4652-f8ab-731adac89ae8"
      },
      "source": [
        "plt.figure(figsize=(12,8))\n",
        "sns.heatmap(corr, annot=True, vmax=1, vmin=-1)\n",
        "plt.show()"
      ],
      "execution_count": 106,
      "outputs": [
        {
          "output_type": "display_data",
          "data": {
            "image/png": "[encoded data removed]",
            "text/plain": [
              "<Figure size 864x576 with 2 Axes>"
            ]
          },
          "metadata": {
            "tags": [],
            "needs_background": "light"
          }
        }
      ]
    },
    {
      "cell_type": "code",
      "metadata": {
        "id": "k-bN9_tcMeyI"
      },
      "source": [
        "#blood_transf.drop('V2', axis=1, inplace=True)"
      ],
      "execution_count": 107,
      "outputs": []
    },
    {
      "cell_type": "code",
      "metadata": {
        "id": "8V0wpbyIoEj5"
      },
      "source": [
        "# armazenando os labels em um array\n",
        "labels = np.array(blood_transf['Class'])"
      ],
      "execution_count": 108,
      "outputs": []
    },
    {
      "cell_type": "code",
      "metadata": {
        "colab": {
          "base_uri": "https://localhost:8080/"
        },
        "id": "k0YBEvv6AxqA",
        "outputId": "7bdf9622-41c2-46f5-f572-aa8a770b02e4"
      },
      "source": [
        "#removendo a classe do dataset original\n",
        "blood_transf.drop('Class', axis=1, inplace=True)\n",
        "\n",
        "#check\n",
        "blood_transf.columns"
      ],
      "execution_count": 109,
      "outputs": [
        {
          "output_type": "execute_result",
          "data": {
            "text/plain": [
              "Index(['V1', 'V2', 'V3', 'V4'], dtype='object')"
            ]
          },
          "metadata": {
            "tags": []
          },
          "execution_count": 109
        }
      ]
    },
    {
      "cell_type": "code",
      "metadata": {
        "id": "KOzfjpNdA_xr"
      },
      "source": [
        "# convertendo df para array\n",
        "data = np.array(blood_transf)"
      ],
      "execution_count": 110,
      "outputs": []
    },
    {
      "cell_type": "code",
      "metadata": {
        "colab": {
          "base_uri": "https://localhost:8080/"
        },
        "id": "UEh6-xHMDrzE",
        "outputId": "e28b5d84-434a-4125-e489-1e0ea71cc7ec"
      },
      "source": [
        "#normalizando os dados\n",
        "from sklearn.preprocessing import StandardScaler\n",
        "scaler = StandardScaler()\n",
        "scaler.fit_transform(data)"
      ],
      "execution_count": 111,
      "outputs": [
        {
          "output_type": "execute_result",
          "data": {
            "text/plain": [
              "array([[-0.92789873,  7.62334626,  7.62334626,  2.61563344],\n",
              "       [-1.17511806,  1.28273826,  1.28273826, -0.2578809 ],\n",
              "       [-1.0515084 ,  1.79684161,  1.79684161,  0.02947053],\n",
              "       ...,\n",
              "       [ 1.66790417, -0.43093957, -0.43093957,  1.13782607],\n",
              "       [ 3.64565877, -0.77367514, -0.77367514,  0.19367135],\n",
              "       [ 7.72477762, -0.77367514, -0.77367514,  1.54832812]])"
            ]
          },
          "metadata": {
            "tags": []
          },
          "execution_count": 111
        }
      ]
    },
    {
      "cell_type": "code",
      "metadata": {
        "id": "r-3rJIYKBKir"
      },
      "source": [
        "#fazendo a divisão estratificada do conjunto de dados de treino e teste\n",
        "from sklearn.model_selection import StratifiedKFold\n",
        "\n",
        "skf = StratifiedKFold(n_splits=3, random_state=None, shuffle=False)\n",
        "for train_index, test_index in skf.split(data, labels):\n",
        "  x_train, x_test = data[train_index], data[test_index]\n",
        "  y_train, y_test = labels[train_index], labels[test_index]\n"
      ],
      "execution_count": 112,
      "outputs": []
    },
    {
      "cell_type": "markdown",
      "metadata": {
        "id": "ZSP7viMPE1jI"
      },
      "source": [
        "# SVM"
      ]
    },
    {
      "cell_type": "code",
      "metadata": {
        "colab": {
          "base_uri": "https://localhost:8080/"
        },
        "id": "8t420KA_ErqN",
        "outputId": "79bce216-7689-43f0-e6a4-67c675d56f56"
      },
      "source": [
        "from sklearn.svm import SVC\n",
        "\n",
        "#instanciando o modelo\n",
        "SVC(C=0.20584494295802447, break_ties=False, cache_size=200, class_weight=None,\n",
        "    coef0=0.0, decision_function_shape='ovr', degree=3, gamma='auto',\n",
        "    kernel='sigmoid', max_iter=-1, probability=False, random_state=42,\n",
        "    shrinking=True, tol=0.001, verbose=False)\n",
        "\n",
        "#treinando o modelo\n",
        "svc_clf.fit(x_train, y_train)"
      ],
      "execution_count": 113,
      "outputs": [
        {
          "output_type": "execute_result",
          "data": {
            "text/plain": [
              "SVC(C=1.0, break_ties=False, cache_size=200, class_weight=None, coef0=0.0,\n",
              "    decision_function_shape='ovr', degree=3, gamma='auto', kernel='rbf',\n",
              "    max_iter=-1, probability=False, random_state=42, shrinking=True, tol=0.001,\n",
              "    verbose=False)"
            ]
          },
          "metadata": {
            "tags": []
          },
          "execution_count": 113
        }
      ]
    },
    {
      "cell_type": "code",
      "metadata": {
        "id": "UAJwKNZqFUhD"
      },
      "source": [
        "y_pred = svc_clf.predict(x_test)"
      ],
      "execution_count": 114,
      "outputs": []
    },
    {
      "cell_type": "code",
      "metadata": {
        "colab": {
          "base_uri": "https://localhost:8080/"
        },
        "id": "Wz0cIUhQFj_8",
        "outputId": "48b8e133-c975-4209-955a-2b8c1c886817"
      },
      "source": [
        "#avaliando o modelo \n",
        "from sklearn import metrics\n",
        "\n",
        "print('Matriz de Confusão\\n', metrics.confusion_matrix(y_test, y_pred)) \n",
        "print('\\nAcurácia\\n', metrics.accuracy_score(y_test, y_pred)) \n",
        "print('\\nF1\\n', metrics.f1_score(y_test, y_pred))\n",
        "print('\\nAUCROC\\n', metrics.roc_auc_score(y_test, y_pred))"
      ],
      "execution_count": 115,
      "outputs": [
        {
          "output_type": "stream",
          "text": [
            "Matriz de Confusão\n",
            " [[183   7]\n",
            " [ 54   5]]\n",
            "\n",
            "Acurácia\n",
            " 0.7550200803212851\n",
            "\n",
            "F1\n",
            " 0.8571428571428571\n",
            "\n",
            "AUCROC\n",
            " 0.5239518287243532\n"
          ],
          "name": "stdout"
        }
      ]
    },
    {
      "cell_type": "markdown",
      "metadata": {
        "id": "Fajsx7LsM1vL"
      },
      "source": [
        "Tunando o modelo"
      ]
    },
    {
      "cell_type": "code",
      "metadata": {
        "id": "1Jr8aT7tRcD7"
      },
      "source": [
        "#definindo o tipo de validacao cruzada e o numero de folds\n",
        "cv_strat = StratifiedKFold(n_splits=3)"
      ],
      "execution_count": 116,
      "outputs": []
    },
    {
      "cell_type": "code",
      "metadata": {
        "id": "QNSDgyQ7RdkI"
      },
      "source": [
        "#definindo a estrategia de score a partir da metrica f1\n",
        "f1 = make_scorer(f1_score)"
      ],
      "execution_count": 117,
      "outputs": []
    },
    {
      "cell_type": "code",
      "metadata": {
        "id": "cMhYn4v0RfgF"
      },
      "source": [
        "#instanciando o modelo\n",
        "svc = SVC()"
      ],
      "execution_count": 118,
      "outputs": []
    },
    {
      "cell_type": "code",
      "metadata": {
        "colab": {
          "base_uri": "https://localhost:8080/"
        },
        "id": "wu3G_Hp0FyEc",
        "outputId": "cac0e043-fab8-4844-c229-1bceb054bcec"
      },
      "source": [
        "#tunando o modelo\n",
        "from sklearn.model_selection import StratifiedKFold\n",
        "from sklearn.model_selection import RandomizedSearchCV\n",
        "from sklearn.metrics import f1_score, make_scorer\n",
        "from scipy.stats import uniform\n",
        "\n",
        "#definindo os hiperparametros\n",
        "hiperparam = {\n",
        "    'C': uniform(loc=0, scale=10),\n",
        "    'kernel': ['rbf', 'sigmoid'],\n",
        "    'gamma':['scale', 'auto']\n",
        "\n",
        "}\n",
        "#instanciando e modelando o random search com os hiperparametros e a validação definidas.\n",
        "random_svc = RandomizedSearchCV(svc, hiperparam, n_iter=10, scoring=f1, cv=cv_strat, random_state=42)\n",
        "random_svc.fit(data, labels)"
      ],
      "execution_count": 119,
      "outputs": [
        {
          "output_type": "execute_result",
          "data": {
            "text/plain": [
              "RandomizedSearchCV(cv=StratifiedKFold(n_splits=3, random_state=None, shuffle=False),\n",
              "                   error_score=nan,\n",
              "                   estimator=SVC(C=1.0, break_ties=False, cache_size=200,\n",
              "                                 class_weight=None, coef0=0.0,\n",
              "                                 decision_function_shape='ovr', degree=3,\n",
              "                                 gamma='scale', kernel='rbf', max_iter=-1,\n",
              "                                 probability=False, random_state=None,\n",
              "                                 shrinking=True, tol=0.001, verbose=False),\n",
              "                   iid='deprecated', n_iter=10, n_jobs=None,\n",
              "                   param_distributions={'C': <scipy.stats._distn_infrastructure.rv_frozen object at 0x7f0711518828>,\n",
              "                                        'gamma': ['scale', 'auto'],\n",
              "                                        'kernel': ['rbf', 'sigmoid']},\n",
              "                   pre_dispatch='2*n_jobs', random_state=42, refit=True,\n",
              "                   return_train_score=False, scoring=make_scorer(f1_score),\n",
              "                   verbose=0)"
            ]
          },
          "metadata": {
            "tags": []
          },
          "execution_count": 119
        }
      ]
    },
    {
      "cell_type": "code",
      "metadata": {
        "colab": {
          "base_uri": "https://localhost:8080/"
        },
        "id": "PLI_MB64KQHE",
        "outputId": "bc7ba532-61ce-4a86-dd29-d27c6db854b8"
      },
      "source": [
        "#vamos olhar para os melhores resultados encontrados pelo Grid Search\n",
        "print('Melhor resultado f1:', random_svc.best_score_)\n",
        "print('\\n\\nMelhor configuração de hiperparâmetros:', random_svc.best_params_)\n",
        "\n",
        "print( '\\n\\nConfigurações de todos os hiperparâmetros do melhor estimado encontrado pelo GridSearch: \\n', random_svc.best_estimator_)"
      ],
      "execution_count": 120,
      "outputs": [
        {
          "output_type": "stream",
          "text": [
            "Melhor resultado f1: 0.8649478843100712\n",
            "\n",
            "\n",
            "Melhor configuração de hiperparâmetros: {'C': 0.20584494295802447, 'gamma': 'auto', 'kernel': 'sigmoid'}\n",
            "\n",
            "\n",
            "Configurações de todos os hiperparâmetros do melhor estimado encontrado pelo GridSearch: \n",
            " SVC(C=0.20584494295802447, break_ties=False, cache_size=200, class_weight=None,\n",
            "    coef0=0.0, decision_function_shape='ovr', degree=3, gamma='auto',\n",
            "    kernel='sigmoid', max_iter=-1, probability=False, random_state=None,\n",
            "    shrinking=True, tol=0.001, verbose=False)\n"
          ],
          "name": "stdout"
        }
      ]
    },
    {
      "cell_type": "markdown",
      "metadata": {
        "id": "BoUJI_CyLeFO"
      },
      "source": [
        "# Random Forest"
      ]
    },
    {
      "cell_type": "code",
      "metadata": {
        "id": "hWRs7EsiK1T8"
      },
      "source": [
        "from sklearn.ensemble import RandomForestClassifier\n",
        "\n",
        "clf_rf = RandomForestClassifier(bootstrap=True, ccp_alpha=0.0, class_weight=None,\n",
        "                       criterion='gini', max_depth=1, max_features='auto',\n",
        "                       max_leaf_nodes=None, max_samples=None,\n",
        "                       min_impurity_decrease=0.0, min_impurity_split=None,\n",
        "                       min_samples_leaf=1, min_samples_split=2,\n",
        "                       min_weight_fraction_leaf=0.0, n_estimators=213,\n",
        "                       n_jobs=None, oob_score=False, random_state=None,\n",
        "                       verbose=0, warm_start=False)"
      ],
      "execution_count": 121,
      "outputs": []
    },
    {
      "cell_type": "code",
      "metadata": {
        "colab": {
          "base_uri": "https://localhost:8080/"
        },
        "id": "f4V52S54L4P6",
        "outputId": "1f355c65-1118-4e87-f1aa-7d13e83eca16"
      },
      "source": [
        "#treinando o modelo\n",
        "clf_rf.fit(x_train, y_train)"
      ],
      "execution_count": 122,
      "outputs": [
        {
          "output_type": "execute_result",
          "data": {
            "text/plain": [
              "RandomForestClassifier(bootstrap=True, ccp_alpha=0.0, class_weight=None,\n",
              "                       criterion='gini', max_depth=1, max_features='auto',\n",
              "                       max_leaf_nodes=None, max_samples=None,\n",
              "                       min_impurity_decrease=0.0, min_impurity_split=None,\n",
              "                       min_samples_leaf=1, min_samples_split=2,\n",
              "                       min_weight_fraction_leaf=0.0, n_estimators=213,\n",
              "                       n_jobs=None, oob_score=False, random_state=None,\n",
              "                       verbose=0, warm_start=False)"
            ]
          },
          "metadata": {
            "tags": []
          },
          "execution_count": 122
        }
      ]
    },
    {
      "cell_type": "code",
      "metadata": {
        "id": "O4w_XG6KL_as"
      },
      "source": [
        "#realizando as predições\n",
        "y_pred = clf_rf.predict(x_test)"
      ],
      "execution_count": 123,
      "outputs": []
    },
    {
      "cell_type": "code",
      "metadata": {
        "colab": {
          "base_uri": "https://localhost:8080/"
        },
        "id": "0rOhvRFoMDI0",
        "outputId": "c6658c60-5752-478f-936d-48be408ec1f7"
      },
      "source": [
        "#avaliando o modelo\n",
        "print('Matriz de Confusão\\n', metrics.confusion_matrix(y_test, y_pred)) \n",
        "print('\\nAcurácia\\n', metrics.accuracy_score(y_test, y_pred)) \n",
        "print('\\nF1\\n', metrics.f1_score(y_test, y_pred))\n",
        "print('\\nAUCROC\\n', metrics.roc_auc_score(y_test, y_pred))"
      ],
      "execution_count": 124,
      "outputs": [
        {
          "output_type": "stream",
          "text": [
            "Matriz de Confusão\n",
            " [[190   0]\n",
            " [ 59   0]]\n",
            "\n",
            "Acurácia\n",
            " 0.7630522088353414\n",
            "\n",
            "F1\n",
            " 0.8656036446469249\n",
            "\n",
            "AUCROC\n",
            " 0.5\n"
          ],
          "name": "stdout"
        }
      ]
    },
    {
      "cell_type": "code",
      "metadata": {
        "colab": {
          "base_uri": "https://localhost:8080/"
        },
        "id": "pGFUuKSPMKA0",
        "outputId": "c96abde2-a7b8-4cf7-de97-7f813a7198d3"
      },
      "source": [
        "from random import randint\n",
        "#definindo hiperparametros\n",
        "hiperparam_rf = {\n",
        "    'n_estimators': [randint(100, 500)],\n",
        "    'criterion': ['gini','entropy'],\n",
        "    'bootstrap': [True, False],\n",
        "    'max_depth': [randint(0, 6)]\n",
        "}\n",
        "\n",
        "#instanciando o modelo\n",
        "rf = RandomForestClassifier()\n",
        "\n",
        "random_rf = RandomizedSearchCV(rf, hiperparam_rf, n_iter=10, scoring=f1, cv=cv_strat, random_state=42)\n",
        "random_rf.fit(data, labels)"
      ],
      "execution_count": 125,
      "outputs": [
        {
          "output_type": "stream",
          "text": [
            "/usr/local/lib/python3.6/dist-packages/sklearn/model_selection/_search.py:281: UserWarning: The total space of parameters 4 is smaller than n_iter=10. Running 4 iterations. For exhaustive searches, use GridSearchCV.\n",
            "  % (grid_size, self.n_iter, grid_size), UserWarning)\n"
          ],
          "name": "stderr"
        },
        {
          "output_type": "execute_result",
          "data": {
            "text/plain": [
              "RandomizedSearchCV(cv=StratifiedKFold(n_splits=3, random_state=None, shuffle=False),\n",
              "                   error_score=nan,\n",
              "                   estimator=RandomForestClassifier(bootstrap=True,\n",
              "                                                    ccp_alpha=0.0,\n",
              "                                                    class_weight=None,\n",
              "                                                    criterion='gini',\n",
              "                                                    max_depth=None,\n",
              "                                                    max_features='auto',\n",
              "                                                    max_leaf_nodes=None,\n",
              "                                                    max_samples=None,\n",
              "                                                    min_impurity_decrease=0.0,\n",
              "                                                    min_impurity_split=None,\n",
              "                                                    min_samples_leaf=1,\n",
              "                                                    min_samples_sp...\n",
              "                                                    n_estimators=100,\n",
              "                                                    n_jobs=None,\n",
              "                                                    oob_score=False,\n",
              "                                                    random_state=None,\n",
              "                                                    verbose=0,\n",
              "                                                    warm_start=False),\n",
              "                   iid='deprecated', n_iter=10, n_jobs=None,\n",
              "                   param_distributions={'bootstrap': [True, False],\n",
              "                                        'criterion': ['gini', 'entropy'],\n",
              "                                        'max_depth': [1],\n",
              "                                        'n_estimators': [493]},\n",
              "                   pre_dispatch='2*n_jobs', random_state=42, refit=True,\n",
              "                   return_train_score=False, scoring=make_scorer(f1_score),\n",
              "                   verbose=0)"
            ]
          },
          "metadata": {
            "tags": []
          },
          "execution_count": 125
        }
      ]
    },
    {
      "cell_type": "code",
      "metadata": {
        "colab": {
          "base_uri": "https://localhost:8080/"
        },
        "id": "-_yZI7QoP8be",
        "outputId": "42d1205d-30e8-4034-d66d-05015d19f35f"
      },
      "source": [
        "#vamos olhar para os melhores resultados encontrados pelo Grid Search\n",
        "print('Melhor resultado f1:', random_rf.best_score_)\n",
        "print('\\n\\nMelhor configuração de hiperparâmetros:', random_rf.best_params_)\n",
        "\n",
        "print( '\\n\\nConfigurações de todos os hiperparâmetros do melhor estimado encontrado pelo GridSearch: \\n', random_rf.best_estimator_)"
      ],
      "execution_count": 126,
      "outputs": [
        {
          "output_type": "stream",
          "text": [
            "Melhor resultado f1: 0.8649478843100712\n",
            "\n",
            "\n",
            "Melhor configuração de hiperparâmetros: {'n_estimators': 493, 'max_depth': 1, 'criterion': 'gini', 'bootstrap': True}\n",
            "\n",
            "\n",
            "Configurações de todos os hiperparâmetros do melhor estimado encontrado pelo GridSearch: \n",
            " RandomForestClassifier(bootstrap=True, ccp_alpha=0.0, class_weight=None,\n",
            "                       criterion='gini', max_depth=1, max_features='auto',\n",
            "                       max_leaf_nodes=None, max_samples=None,\n",
            "                       min_impurity_decrease=0.0, min_impurity_split=None,\n",
            "                       min_samples_leaf=1, min_samples_split=2,\n",
            "                       min_weight_fraction_leaf=0.0, n_estimators=493,\n",
            "                       n_jobs=None, oob_score=False, random_state=None,\n",
            "                       verbose=0, warm_start=False)\n"
          ],
          "name": "stdout"
        }
      ]
    },
    {
      "cell_type": "code",
      "metadata": {
        "id": "InVlKFGZQYgF"
      },
      "source": [
        ""
      ],
      "execution_count": 126,
      "outputs": []
    }
  ]
}